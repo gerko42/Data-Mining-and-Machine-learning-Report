{
  "nbformat": 4,
  "nbformat_minor": 0,
  "metadata": {
    "colab": {
      "provenance": []
    },
    "kernelspec": {
      "name": "python3",
      "display_name": "Python 3"
    },
    "language_info": {
      "name": "python"
    }
  },
  "cells": [
    {
      "cell_type": "code",
      "execution_count": null,
      "metadata": {
        "id": "856cdd24-6642-4a7d-a4ba-697dd9548ce1"
      },
      "outputs": [],
      "source": [
        "#initial_libraries\n",
        "import pandas as pd\n",
        "import numpy as np\n",
        "from numpy import nan as NA\n",
        "import random\n",
        "from matplotlib import pyplot as plt\n",
        "%matplotlib inline\n",
        "import seaborn as sns\n",
        "import re\n",
        "from math import radians, sin, cos, asin, sqrt\n",
        "import folium"
      ]
    },
    {
      "cell_type": "code",
      "execution_count": null,
      "metadata": {
        "id": "763f9488-cfa0-4f36-bebd-da77203c093a"
      },
      "outputs": [],
      "source": [
        "from sklearn.model_selection import train_test_split\n",
        "from sklearn.preprocessing import StandardScaler, LabelEncoder\n",
        "from sklearn.svm import SVR\n",
        "from sklearn.metrics import mean_squared_error, mean_absolute_percentage_error,accuracy_score, r2_score\n",
        "from sklearn.model_selection import GridSearchCV"
      ]
    },
    {
      "cell_type": "code",
      "source": [
        "from sklearn.feature_extraction.text import TfidfVectorizer\n",
        "from sklearn.metrics.pairwise import cosine_similarity\n",
        "from sklearn.decomposition import TruncatedSVD\n",
        "import nltk\n",
        "from nltk.tokenize import word_tokenize\n",
        "from nltk.stem import PorterStemmer\n",
        "from nltk.stem import WordNetLemmatizer\n",
        "from nltk.corpus import stopwords\n",
        "nltk.download('punkt')\n",
        "nltk.download('punkt_tab')\n",
        "nltk.download('wordnet')\n",
        "nltk.download('stopwords')"
      ],
      "metadata": {
        "colab": {
          "base_uri": "https://localhost:8080/"
        },
        "id": "jkuLRFNPHQXD",
        "outputId": "54218448-7946-4a83-a550-ec8e50c0e733"
      },
      "execution_count": null,
      "outputs": [
        {
          "output_type": "stream",
          "name": "stderr",
          "text": [
            "[nltk_data] Downloading package punkt to /root/nltk_data...\n",
            "[nltk_data]   Unzipping tokenizers/punkt.zip.\n",
            "[nltk_data] Downloading package punkt_tab to /root/nltk_data...\n",
            "[nltk_data]   Unzipping tokenizers/punkt_tab.zip.\n",
            "[nltk_data] Downloading package wordnet to /root/nltk_data...\n",
            "[nltk_data] Downloading package stopwords to /root/nltk_data...\n",
            "[nltk_data]   Unzipping corpora/stopwords.zip.\n"
          ]
        },
        {
          "output_type": "execute_result",
          "data": {
            "text/plain": [
              "True"
            ]
          },
          "metadata": {},
          "execution_count": 3
        }
      ]
    },
    {
      "cell_type": "code",
      "source": [
        "df = pd.read_csv('/content/drive/MyDrive/Daft/cleaned_data.csv')\n",
        "df_text = df[['id','description']]\n",
        "df_text = df_text.dropna()"
      ],
      "metadata": {
        "id": "SSQaGhp5HWN-"
      },
      "execution_count": null,
      "outputs": []
    },
    {
      "cell_type": "code",
      "source": [
        "#Tokenization, removing stopwords and stemming or lemmatization\n",
        "def prep_text(text, use_stemming=True):\n",
        "    tokens = word_tokenize(text.lower())  # Convert to lowercase and tokenize\n",
        "    stop_words = set(stopwords.words('english'))\n",
        "    tokens = [word for word in tokens if word not in stop_words and word.isalpha()]\n",
        "    if use_stemming:\n",
        "        stemmer = PorterStemmer()\n",
        "        tokens = [stemmer.stem(word) for word in tokens]\n",
        "    else:\n",
        "        lemmatizer = WordNetLemmatizer()\n",
        "        tokens = [lemmatizer.lemmatize(word) for word in tokens]\n",
        "    return \" \".join(tokens)"
      ],
      "metadata": {
        "id": "20NJieAcpz9r"
      },
      "execution_count": null,
      "outputs": []
    },
    {
      "cell_type": "code",
      "source": [
        "df_text['prep_description_stemm'] = df_text['description'].apply(lambda x: prep_text(x, use_stemming=True))  # or use_stemming=False\n",
        "df_text['prep_description_lemm'] = df_text['description'].apply(lambda x: prep_text(x, use_stemming=False))"
      ],
      "metadata": {
        "id": "UR2vcIXLqGa5"
      },
      "execution_count": null,
      "outputs": []
    },
    {
      "cell_type": "code",
      "source": [
        "df_text"
      ],
      "metadata": {
        "colab": {
          "base_uri": "https://localhost:8080/",
          "height": 424
        },
        "id": "ix-urBLZqv-0",
        "outputId": "e851c0ac-b6cc-478b-e164-7686435b517b"
      },
      "execution_count": null,
      "outputs": [
        {
          "output_type": "execute_result",
          "data": {
            "text/plain": [
              "              id                                        description  \\\n",
              "0        5500509  Development Experience a better kind of rentin...   \n",
              "1        5583033  Development www.nicheliving.com\\r\\n\\r\\nRents i...   \n",
              "2        5419793  Development www.nicheliving.com\\r\\n\\r\\nRents f...   \n",
              "3        5185412  Development Our community is connected by priv...   \n",
              "4        5601119  Development Balroy Hall offers an exclusive se...   \n",
              "...          ...                                                ...   \n",
              "10934  5870975_A  Sale Type: For Sale by Private TreatyOverall F...   \n",
              "10935  5781883_A  Central St Stephens Green location. \\nPrice is...   \n",
              "10936  5552980_A  Overall Floor Area: 44 m²1st floor return offi...   \n",
              "10937  5840048_A  Sale Type: For Sale by Private TreatyOverall F...   \n",
              "10938  5851192_A  Sale Type: For Sale by Private TreatyOverall F...   \n",
              "\n",
              "                                  prep_description_stemm  \\\n",
              "0      develop experi better kind rent quaysid quarte...   \n",
              "1      develop rent incl broadband util bill tv gym c...   \n",
              "2      develop rent incl broadband util bill tv gym c...   \n",
              "3      develop commun connect privat garden children ...   \n",
              "4      develop balroy hall offer exclus select apart ...   \n",
              "...                                                  ...   \n",
              "10934  sale type sale privat treatyoveral floor area ...   \n",
              "10935  central st stephen green locat price includ bi...   \n",
              "10936  overal floor area floor return offic avail fle...   \n",
              "10937  sale type sale privat treatyoveral floor area ...   \n",
              "10938  sale type sale privat treatyoveral floor area ...   \n",
              "\n",
              "                                   prep_description_lemm  \n",
              "0      development experience better kind renting qua...  \n",
              "1      development rent incl broadband utility bill t...  \n",
              "2      development rent incl broadband utility bill t...  \n",
              "3      development community connected private garden...  \n",
              "4      development balroy hall offer exclusive select...  \n",
              "...                                                  ...  \n",
              "10934  sale type sale private treatyoverall floor are...  \n",
              "10935  central st stephen green location price includ...  \n",
              "10936  overall floor area floor return office availab...  \n",
              "10937  sale type sale private treatyoverall floor are...  \n",
              "10938  sale type sale private treatyoverall floor are...  \n",
              "\n",
              "[10025 rows x 4 columns]"
            ],
            "text/html": [
              "\n",
              "  <div id=\"df-23cde560-b31a-4f1c-952f-2270e982020f\" class=\"colab-df-container\">\n",
              "    <div>\n",
              "<style scoped>\n",
              "    .dataframe tbody tr th:only-of-type {\n",
              "        vertical-align: middle;\n",
              "    }\n",
              "\n",
              "    .dataframe tbody tr th {\n",
              "        vertical-align: top;\n",
              "    }\n",
              "\n",
              "    .dataframe thead th {\n",
              "        text-align: right;\n",
              "    }\n",
              "</style>\n",
              "<table border=\"1\" class=\"dataframe\">\n",
              "  <thead>\n",
              "    <tr style=\"text-align: right;\">\n",
              "      <th></th>\n",
              "      <th>id</th>\n",
              "      <th>description</th>\n",
              "      <th>prep_description_stemm</th>\n",
              "      <th>prep_description_lemm</th>\n",
              "    </tr>\n",
              "  </thead>\n",
              "  <tbody>\n",
              "    <tr>\n",
              "      <th>0</th>\n",
              "      <td>5500509</td>\n",
              "      <td>Development Experience a better kind of rentin...</td>\n",
              "      <td>develop experi better kind rent quaysid quarte...</td>\n",
              "      <td>development experience better kind renting qua...</td>\n",
              "    </tr>\n",
              "    <tr>\n",
              "      <th>1</th>\n",
              "      <td>5583033</td>\n",
              "      <td>Development www.nicheliving.com\\r\\n\\r\\nRents i...</td>\n",
              "      <td>develop rent incl broadband util bill tv gym c...</td>\n",
              "      <td>development rent incl broadband utility bill t...</td>\n",
              "    </tr>\n",
              "    <tr>\n",
              "      <th>2</th>\n",
              "      <td>5419793</td>\n",
              "      <td>Development www.nicheliving.com\\r\\n\\r\\nRents f...</td>\n",
              "      <td>develop rent incl broadband util bill tv gym c...</td>\n",
              "      <td>development rent incl broadband utility bill t...</td>\n",
              "    </tr>\n",
              "    <tr>\n",
              "      <th>3</th>\n",
              "      <td>5185412</td>\n",
              "      <td>Development Our community is connected by priv...</td>\n",
              "      <td>develop commun connect privat garden children ...</td>\n",
              "      <td>development community connected private garden...</td>\n",
              "    </tr>\n",
              "    <tr>\n",
              "      <th>4</th>\n",
              "      <td>5601119</td>\n",
              "      <td>Development Balroy Hall offers an exclusive se...</td>\n",
              "      <td>develop balroy hall offer exclus select apart ...</td>\n",
              "      <td>development balroy hall offer exclusive select...</td>\n",
              "    </tr>\n",
              "    <tr>\n",
              "      <th>...</th>\n",
              "      <td>...</td>\n",
              "      <td>...</td>\n",
              "      <td>...</td>\n",
              "      <td>...</td>\n",
              "    </tr>\n",
              "    <tr>\n",
              "      <th>10934</th>\n",
              "      <td>5870975_A</td>\n",
              "      <td>Sale Type: For Sale by Private TreatyOverall F...</td>\n",
              "      <td>sale type sale privat treatyoveral floor area ...</td>\n",
              "      <td>sale type sale private treatyoverall floor are...</td>\n",
              "    </tr>\n",
              "    <tr>\n",
              "      <th>10935</th>\n",
              "      <td>5781883_A</td>\n",
              "      <td>Central St Stephens Green location. \\nPrice is...</td>\n",
              "      <td>central st stephen green locat price includ bi...</td>\n",
              "      <td>central st stephen green location price includ...</td>\n",
              "    </tr>\n",
              "    <tr>\n",
              "      <th>10936</th>\n",
              "      <td>5552980_A</td>\n",
              "      <td>Overall Floor Area: 44 m²1st floor return offi...</td>\n",
              "      <td>overal floor area floor return offic avail fle...</td>\n",
              "      <td>overall floor area floor return office availab...</td>\n",
              "    </tr>\n",
              "    <tr>\n",
              "      <th>10937</th>\n",
              "      <td>5840048_A</td>\n",
              "      <td>Sale Type: For Sale by Private TreatyOverall F...</td>\n",
              "      <td>sale type sale privat treatyoveral floor area ...</td>\n",
              "      <td>sale type sale private treatyoverall floor are...</td>\n",
              "    </tr>\n",
              "    <tr>\n",
              "      <th>10938</th>\n",
              "      <td>5851192_A</td>\n",
              "      <td>Sale Type: For Sale by Private TreatyOverall F...</td>\n",
              "      <td>sale type sale privat treatyoveral floor area ...</td>\n",
              "      <td>sale type sale private treatyoverall floor are...</td>\n",
              "    </tr>\n",
              "  </tbody>\n",
              "</table>\n",
              "<p>10025 rows × 4 columns</p>\n",
              "</div>\n",
              "    <div class=\"colab-df-buttons\">\n",
              "\n",
              "  <div class=\"colab-df-container\">\n",
              "    <button class=\"colab-df-convert\" onclick=\"convertToInteractive('df-23cde560-b31a-4f1c-952f-2270e982020f')\"\n",
              "            title=\"Convert this dataframe to an interactive table.\"\n",
              "            style=\"display:none;\">\n",
              "\n",
              "  <svg xmlns=\"http://www.w3.org/2000/svg\" height=\"24px\" viewBox=\"0 -960 960 960\">\n",
              "    <path d=\"M120-120v-720h720v720H120Zm60-500h600v-160H180v160Zm220 220h160v-160H400v160Zm0 220h160v-160H400v160ZM180-400h160v-160H180v160Zm440 0h160v-160H620v160ZM180-180h160v-160H180v160Zm440 0h160v-160H620v160Z\"/>\n",
              "  </svg>\n",
              "    </button>\n",
              "\n",
              "  <style>\n",
              "    .colab-df-container {\n",
              "      display:flex;\n",
              "      gap: 12px;\n",
              "    }\n",
              "\n",
              "    .colab-df-convert {\n",
              "      background-color: #E8F0FE;\n",
              "      border: none;\n",
              "      border-radius: 50%;\n",
              "      cursor: pointer;\n",
              "      display: none;\n",
              "      fill: #1967D2;\n",
              "      height: 32px;\n",
              "      padding: 0 0 0 0;\n",
              "      width: 32px;\n",
              "    }\n",
              "\n",
              "    .colab-df-convert:hover {\n",
              "      background-color: #E2EBFA;\n",
              "      box-shadow: 0px 1px 2px rgba(60, 64, 67, 0.3), 0px 1px 3px 1px rgba(60, 64, 67, 0.15);\n",
              "      fill: #174EA6;\n",
              "    }\n",
              "\n",
              "    .colab-df-buttons div {\n",
              "      margin-bottom: 4px;\n",
              "    }\n",
              "\n",
              "    [theme=dark] .colab-df-convert {\n",
              "      background-color: #3B4455;\n",
              "      fill: #D2E3FC;\n",
              "    }\n",
              "\n",
              "    [theme=dark] .colab-df-convert:hover {\n",
              "      background-color: #434B5C;\n",
              "      box-shadow: 0px 1px 3px 1px rgba(0, 0, 0, 0.15);\n",
              "      filter: drop-shadow(0px 1px 2px rgba(0, 0, 0, 0.3));\n",
              "      fill: #FFFFFF;\n",
              "    }\n",
              "  </style>\n",
              "\n",
              "    <script>\n",
              "      const buttonEl =\n",
              "        document.querySelector('#df-23cde560-b31a-4f1c-952f-2270e982020f button.colab-df-convert');\n",
              "      buttonEl.style.display =\n",
              "        google.colab.kernel.accessAllowed ? 'block' : 'none';\n",
              "\n",
              "      async function convertToInteractive(key) {\n",
              "        const element = document.querySelector('#df-23cde560-b31a-4f1c-952f-2270e982020f');\n",
              "        const dataTable =\n",
              "          await google.colab.kernel.invokeFunction('convertToInteractive',\n",
              "                                                    [key], {});\n",
              "        if (!dataTable) return;\n",
              "\n",
              "        const docLinkHtml = 'Like what you see? Visit the ' +\n",
              "          '<a target=\"_blank\" href=https://colab.research.google.com/notebooks/data_table.ipynb>data table notebook</a>'\n",
              "          + ' to learn more about interactive tables.';\n",
              "        element.innerHTML = '';\n",
              "        dataTable['output_type'] = 'display_data';\n",
              "        await google.colab.output.renderOutput(dataTable, element);\n",
              "        const docLink = document.createElement('div');\n",
              "        docLink.innerHTML = docLinkHtml;\n",
              "        element.appendChild(docLink);\n",
              "      }\n",
              "    </script>\n",
              "  </div>\n",
              "\n",
              "\n",
              "<div id=\"df-6be2a549-6c46-4430-ac6a-83769dd65ad8\">\n",
              "  <button class=\"colab-df-quickchart\" onclick=\"quickchart('df-6be2a549-6c46-4430-ac6a-83769dd65ad8')\"\n",
              "            title=\"Suggest charts\"\n",
              "            style=\"display:none;\">\n",
              "\n",
              "<svg xmlns=\"http://www.w3.org/2000/svg\" height=\"24px\"viewBox=\"0 0 24 24\"\n",
              "     width=\"24px\">\n",
              "    <g>\n",
              "        <path d=\"M19 3H5c-1.1 0-2 .9-2 2v14c0 1.1.9 2 2 2h14c1.1 0 2-.9 2-2V5c0-1.1-.9-2-2-2zM9 17H7v-7h2v7zm4 0h-2V7h2v10zm4 0h-2v-4h2v4z\"/>\n",
              "    </g>\n",
              "</svg>\n",
              "  </button>\n",
              "\n",
              "<style>\n",
              "  .colab-df-quickchart {\n",
              "      --bg-color: #E8F0FE;\n",
              "      --fill-color: #1967D2;\n",
              "      --hover-bg-color: #E2EBFA;\n",
              "      --hover-fill-color: #174EA6;\n",
              "      --disabled-fill-color: #AAA;\n",
              "      --disabled-bg-color: #DDD;\n",
              "  }\n",
              "\n",
              "  [theme=dark] .colab-df-quickchart {\n",
              "      --bg-color: #3B4455;\n",
              "      --fill-color: #D2E3FC;\n",
              "      --hover-bg-color: #434B5C;\n",
              "      --hover-fill-color: #FFFFFF;\n",
              "      --disabled-bg-color: #3B4455;\n",
              "      --disabled-fill-color: #666;\n",
              "  }\n",
              "\n",
              "  .colab-df-quickchart {\n",
              "    background-color: var(--bg-color);\n",
              "    border: none;\n",
              "    border-radius: 50%;\n",
              "    cursor: pointer;\n",
              "    display: none;\n",
              "    fill: var(--fill-color);\n",
              "    height: 32px;\n",
              "    padding: 0;\n",
              "    width: 32px;\n",
              "  }\n",
              "\n",
              "  .colab-df-quickchart:hover {\n",
              "    background-color: var(--hover-bg-color);\n",
              "    box-shadow: 0 1px 2px rgba(60, 64, 67, 0.3), 0 1px 3px 1px rgba(60, 64, 67, 0.15);\n",
              "    fill: var(--button-hover-fill-color);\n",
              "  }\n",
              "\n",
              "  .colab-df-quickchart-complete:disabled,\n",
              "  .colab-df-quickchart-complete:disabled:hover {\n",
              "    background-color: var(--disabled-bg-color);\n",
              "    fill: var(--disabled-fill-color);\n",
              "    box-shadow: none;\n",
              "  }\n",
              "\n",
              "  .colab-df-spinner {\n",
              "    border: 2px solid var(--fill-color);\n",
              "    border-color: transparent;\n",
              "    border-bottom-color: var(--fill-color);\n",
              "    animation:\n",
              "      spin 1s steps(1) infinite;\n",
              "  }\n",
              "\n",
              "  @keyframes spin {\n",
              "    0% {\n",
              "      border-color: transparent;\n",
              "      border-bottom-color: var(--fill-color);\n",
              "      border-left-color: var(--fill-color);\n",
              "    }\n",
              "    20% {\n",
              "      border-color: transparent;\n",
              "      border-left-color: var(--fill-color);\n",
              "      border-top-color: var(--fill-color);\n",
              "    }\n",
              "    30% {\n",
              "      border-color: transparent;\n",
              "      border-left-color: var(--fill-color);\n",
              "      border-top-color: var(--fill-color);\n",
              "      border-right-color: var(--fill-color);\n",
              "    }\n",
              "    40% {\n",
              "      border-color: transparent;\n",
              "      border-right-color: var(--fill-color);\n",
              "      border-top-color: var(--fill-color);\n",
              "    }\n",
              "    60% {\n",
              "      border-color: transparent;\n",
              "      border-right-color: var(--fill-color);\n",
              "    }\n",
              "    80% {\n",
              "      border-color: transparent;\n",
              "      border-right-color: var(--fill-color);\n",
              "      border-bottom-color: var(--fill-color);\n",
              "    }\n",
              "    90% {\n",
              "      border-color: transparent;\n",
              "      border-bottom-color: var(--fill-color);\n",
              "    }\n",
              "  }\n",
              "</style>\n",
              "\n",
              "  <script>\n",
              "    async function quickchart(key) {\n",
              "      const quickchartButtonEl =\n",
              "        document.querySelector('#' + key + ' button');\n",
              "      quickchartButtonEl.disabled = true;  // To prevent multiple clicks.\n",
              "      quickchartButtonEl.classList.add('colab-df-spinner');\n",
              "      try {\n",
              "        const charts = await google.colab.kernel.invokeFunction(\n",
              "            'suggestCharts', [key], {});\n",
              "      } catch (error) {\n",
              "        console.error('Error during call to suggestCharts:', error);\n",
              "      }\n",
              "      quickchartButtonEl.classList.remove('colab-df-spinner');\n",
              "      quickchartButtonEl.classList.add('colab-df-quickchart-complete');\n",
              "    }\n",
              "    (() => {\n",
              "      let quickchartButtonEl =\n",
              "        document.querySelector('#df-6be2a549-6c46-4430-ac6a-83769dd65ad8 button');\n",
              "      quickchartButtonEl.style.display =\n",
              "        google.colab.kernel.accessAllowed ? 'block' : 'none';\n",
              "    })();\n",
              "  </script>\n",
              "</div>\n",
              "    </div>\n",
              "  </div>\n"
            ],
            "application/vnd.google.colaboratory.intrinsic+json": {
              "type": "dataframe",
              "variable_name": "df_text",
              "summary": "{\n  \"name\": \"df_text\",\n  \"rows\": 10025,\n  \"fields\": [\n    {\n      \"column\": \"id\",\n      \"properties\": {\n        \"dtype\": \"string\",\n        \"num_unique_values\": 10025,\n        \"samples\": [\n          \"5883491\",\n          \"5914978\",\n          \"5885174\"\n        ],\n        \"semantic_type\": \"\",\n        \"description\": \"\"\n      }\n    },\n    {\n      \"column\": \"description\",\n      \"properties\": {\n        \"dtype\": \"string\",\n        \"num_unique_values\": 7735,\n        \"samples\": [\n          \"Overall Floor Area: 465 m\\u00b2Superb self contained modern offices comprising a mix of open plan and cellular offices, WC's, Shower room, Boardroom, Canteen and off street parking for up to 12 cars available if required.\\r\\n\\r\\nBenefits include:\\r\\n\\r\\nNew LED Lighting throughout,\\r\\nWell light offices with modern skylights,\\r\\nGFCH,\\r\\nEV Charging points,\\r\\nClose to the M50 and N7 Red Cow Roundabout,\\r\\nMix of CAT 5 and CAT 6 data cabling,\\r\\nLadies and Gents Toilets,\\r\\nBoardroom,\\r\\nCanteen,\\r\\nChubb Safe.\\r\\n\\r\\n\\r\\nRATES: \\u20ac7,275 Est. (2023) \\r\\nINSURANCE CONTRIBUTION:  \\u20ac1,000.00 (Est.)\\r\\nSERVICE CHARGE: TBC\",\n          \"I\\u2019m the first resident of this beautiful, tranquil apartment, which I\\u2019ve called home for four years. I\\u2019m looking for someone who will also feel at home here \\u2013 a place for relaxing evenings with wine and good food is always welcome.\\n\\n2 toilets, so you will have your own toilet.\\n\\nBig 4 doors wardrobe.\\n \\n \\nFully Equipped:\\nThe apartment comes fully furnished and equipped with everything you need for a comfortable, cozy living experience.\\n \\nTransportation:\\n \\n\\u202224-hour bus service (line 15)\\n\\u202215-20 min walk to Dart station\\nThere are other buses around but I\\u2019m not used to take them. \\n\\nUtilities:\\nOnly electricity is separate, and thanks to the apartment's solar energy system, electric costs are minimal. The apartment is fully insulated, equipped with solar heating, and stays comfortably warm in winter.\\n \\nHigh-speed internet included.\\n \\nRent Terms:\\n \\n\\u2022Deposit equal to one month\\u2019s rent\\n\\u2022Rent due in the last week of each month\\n\\u2022Formal lease agreement \\n\\nSafety and Convenience:\\nThe apartment features a high-quality security system, with keycard entry for enhanced safety.\\n \\nAmenities in the Complex:\\n \\n\\u2022Cinema room\\n\\u2022Yoga studio\\n\\u2022Fully equipped gym\\n\\u2022Event and party room\\n\\u2022Hot desk for WFH\\n\\u2022Concierge for deliveries\\n\\u2022Laundry services (in-unit washer as well)\\n\\u2022Community events (hosted by the complex)\\n\\u2022Meeting room for private meetings\\n\\u2022Anti-fog mirrors in the apartment\\n\\nOpen to visit.\\n\\nPlus, one dedicated garage space is included!\\n\\nAny question, please don\\u2019t hesitate to reach me.\",\n          \"Sale Type: For Sale by Private TreatyOverall Floor Area: 94 m\\u00b2***TURN KEY / BEAUTIFUL 3X BED HOME / OFF STREET PARKING / EXTENDED KITCHEN / NEW BOILER / GFCH***\\r\\n\\r\\nKELLY BRADSHAW DALTON is proud to present No. 5 Philipsburgh Terrace, a beautifully appointed 3-bedroom mid-terrace family home, ideally located in the highly desirable Marino development.\\r\\n\\r\\nThis charming property, extended to the rear in 2009, is presented in pristine 'turnkey' condition and will undoubtedly attract families, and those seeking to downsize to a stylish home in one of Dublin's most sought-after neighbourhoods.\\r\\n\\r\\nThe home boasts original hardwood floors in the main reception room, a newly renovated and fully tiled modern family bathroom, and a brand-new boiler installed in February 2023. The two larger bedrooms benefit from fitted wall-to-wall wardrobes, offering ample storage space.\\r\\n\\r\\nThe accommodation is both spacious and well-planned, with a welcoming hallway that leads to both the front and rear reception rooms. These interconnect with a large, naturally light-filled kitchen/dining area to the rear, creating a perfect space for family living and entertaining. Upstairs, you will find three generously proportioned bedrooms, two double rooms and one single along with a stylishly finished main bathroom.\\r\\n\\r\\nAn added bonus is the low-maintenance west-facing garden to the rear, ideal for enjoying evening sun, as well as off-street parking at the front, with space for two cars.\\r\\n\\r\\nMarino itself is a fantastic location, offering a wide range of local amenities and services. The area is home to a selection of top-rated schools, recreational facilities, shops, cafes, restaurants, and boutiques. Transport links are excellent, with Clontarf DART station, Westwood Gym, and the scenic Clontarf promenade all within a ten-minute walk. Dublin city centre is a mere 1.5 km away, making this an ideal choice for those seeking convenience, charm, and a family-friendly environment.\\r\\n\\r\\nThis property offers the perfect balance of space, style, and location, and is sure to attract significant interest.\\r\\n\\r\\nViewing is highly recommended.\\r\\n\\r\\nFeatures\\r\\nTURN KEY BEAUTIFUL 3X BED HOME\\r\\nOFF STREET PARKING\\r\\nGORGEOUS EXTENSION\\r\\nNEW BOILER\\r\\nATTIC STORAGE\\r\\nDOUBLE GLAZED WINDOWS\\r\\nGAS FIRED CENTRAL HEATING\\r\\nEXCELLENT PRIME LOCATION\\r\\n\\r\\nRooms\\r\\nHall - 5.1m x 1.59m\\r\\n\\r\\nLiving Room - 6.85m x 3.9m\\r\\n\\r\\nDining Area - 3.72m x 2.64m\\r\\n\\r\\nKitchen - 5.47m x 2.5m\\r\\n\\r\\nLanding - 2.26m x 1.03m\\r\\n\\r\\nBedroom One - 3.72m x 3.28m\\r\\n\\r\\nBedroom Two - 3.28m x 2.97m\\r\\n\\r\\nBedroom Three - 2.77m x 2.21m\"\n        ],\n        \"semantic_type\": \"\",\n        \"description\": \"\"\n      }\n    },\n    {\n      \"column\": \"prep_description_stemm\",\n      \"properties\": {\n        \"dtype\": \"string\",\n        \"num_unique_values\": 7298,\n        \"samples\": [\n          \"sale type sale privat treatyoveral floor area cottag hectar acr sale excel potenti develop spp locat villag garristown detail arrang view contact conor tormey dng tormey lee send us email\",\n          \"cozi room share femal owner\",\n          \"overal floor area floor offic high ceil window offic fulli renov throughout air condit flexibl term bill includ go free use boardroom pleas see video suitabl offic desk storag tabl chair provid extra cost fulli refurnish georgian number small larg size offic avail modern offic georgian build close major transport link high end corpor georgian privat offic space fix cost number offic avail rang sq ft sq ft includ interconnect offic space person offic person offic requir facil includ includ light heat rate use broadband includ ensur downtim addit cost exclus code offic firewal place excel support free use larg boardroom book onlin option run telephon number broadband reduc cost extra expens cctv alarm front door intercom client access telephon number intercom princip door press compani name seat area lobbi readi meet client hour access access full kitchen seat area toilet shower mainten clean staff employ ensur build remain high level throughout hidden cost flexibl licenc agreement month requir locat offer immedi access transport link numer bu rout lua dart taxi rank area well servic myriad support busi includ major bank solicitor restaur caf\\u00e9 gym public park heart busi district park requir pleas contact us detail visit\"\n        ],\n        \"semantic_type\": \"\",\n        \"description\": \"\"\n      }\n    },\n    {\n      \"column\": \"prep_description_lemm\",\n      \"properties\": {\n        \"dtype\": \"string\",\n        \"num_unique_values\": 7301,\n        \"samples\": [\n          \"overall floor area modern ballsbridge building commercial centre dublin office space sq foot size available close city banking financial hub excellent transport link area include dart dublin bus overview facility access telephone answering kitchen wc comms room copying facility receptionist admin support meeting room shower cellular office security system cat cabling internet secretarial service mail handling furnished office phone line virtual office contact shane dublin expert today short term agreement available vat rent visit information call u direct arrange viewing chat property others book look forward hearing\",\n          \"sale type sale private treatyoverall floor area cooke auctioneer pleased present gorgeous two bedroom mid terrace property market ideally situated mature residential estate mellowes road finglas dublin mature estate located stone throw cardiffsbridge shopping centre mere stroll finglas village host range shop amenity bar restaurant prestigious school primary secondary excellent road network transport route including port tunnel host bus route living accommodation sqm comprises entrance hallway bright spacious living area leading kitchen lovely low maintenance rear garden upstairs host double bedroom main bathroom boast great potential first time buyer growing family feature benefit south facing low maintenance rear garden botanic garden ikea dcu dublin airport also within close proximity early viewing highly advised contact ray cooke auctioneer arrange viewing today additional feature sqm ber two spacious bedroom gas fired central heating low maintenance garden south facing rear garden amazing location gorgeous newly renovated bathroom excellent primary secondary school area easy access motorway mature residential estate ideal first time buyer growing family viewing highly advised direction cardiffsbridge shopping centre head cardiffsbridge road towards mellowes road take next left onto mellows road roughly meter road left hand side\",\n          \"overall floor area property located southside cornmarket located busy junction high street thomas street upper bridge street excellent city centre location boast strong footfall easily accessible well served public transport busy pedestrian route tourist link popular guinness storehouse historic attraction city include dublin castle temple bar trinity college abundance amenity service immediate vicinity including cafe restaurant live venue like vicar street tivoli theatre college national college art design trinity college rcsi tu dublin thomas street district undergoing rejuvenation number new commercial development including hotel student accommodation ground floor comprises regular open plan area extending sq ft street level additional retail area kitchen wc approx raised area rear shop premise currently offer arrange bespoke building material accessory would suit variety retail us including home furnishing interior design beauty tourist related lifestyle us\"\n        ],\n        \"semantic_type\": \"\",\n        \"description\": \"\"\n      }\n    }\n  ]\n}"
            }
          },
          "metadata": {},
          "execution_count": 7
        }
      ]
    },
    {
      "cell_type": "code",
      "source": [
        "#vectorizer = TfidfVectorizer(stop_words='english')\n",
        "vectorizer = TfidfVectorizer(stop_words='english', ngram_range=(1, 2))\n",
        "#To convert texts into a vector representation\n",
        "tfidf_matrix1 = vectorizer.fit_transform(df_text['prep_description_stemm'])\n",
        "tfidf_matrix2 = vectorizer.fit_transform(df_text['prep_description_lemm'])"
      ],
      "metadata": {
        "id": "TL7aWGLFH8uz"
      },
      "execution_count": null,
      "outputs": []
    },
    {
      "cell_type": "code",
      "source": [
        "# to reduce the dimensionality of the TF-IDF matrix\n",
        "svd = TruncatedSVD(n_components=100)\n",
        "tfidf_matrix_reduced1 = svd.fit_transform(tfidf_matrix1)\n",
        "tfidf_matrix_reduced2 = svd.fit_transform(tfidf_matrix2)"
      ],
      "metadata": {
        "id": "M9R1KxQOWM7M"
      },
      "execution_count": null,
      "outputs": []
    },
    {
      "cell_type": "code",
      "source": [
        "def find_similar_descr(query, tfidf_matrix_reduced, vectorizer, use_stemm,threshold=0.2):\n",
        "    query1 = prep_text(query, use_stemming=use_stemm)\n",
        "    query_tfidf = vectorizer.transform([query1])\n",
        "    query_reduced = svd.transform(query_tfidf)\n",
        "    cosine_similarities = cosine_similarity(query_reduced, tfidf_matrix_reduced) #Calculating the similarity between the request and the descriptions\n",
        "    similar_descr = cosine_similarities.argsort()[0][::-1] # to get indexes\n",
        "    #similar_descr_above_threshold = [idx for idx in similar_descr if cosine_similarities[0][idx] > threshold]\n",
        "    return similar_descr, cosine_similarities"
      ],
      "metadata": {
        "id": "jontMUvGIO81"
      },
      "execution_count": null,
      "outputs": []
    },
    {
      "cell_type": "code",
      "source": [
        "query = \"Want to rent 3 bedroom house\""
      ],
      "metadata": {
        "id": "o0W-DylhJe5G"
      },
      "execution_count": null,
      "outputs": []
    },
    {
      "cell_type": "code",
      "source": [
        "similar_descr1, similarities1 = find_similar_descr(query, tfidf_matrix_reduced1, vectorizer,True)\n",
        "for idx in similar_descr1[:3]:\n",
        "    print(f\"{df_text.iloc[idx]} - the similarity: {similarities1[0][idx]:.2f}\")\n",
        "print('------------------------------------')\n",
        "similar_descr2, similarities2 = find_similar_descr(query, tfidf_matrix_reduced2, vectorizer,True)\n",
        "for idx in similar_descr2[:3]:\n",
        "    print(f\"{df_text.iloc[idx]} - the similarity: {similarities2[0][idx]:.2f}\")"
      ],
      "metadata": {
        "colab": {
          "base_uri": "https://localhost:8080/"
        },
        "id": "FXNEx5l9JZWw",
        "outputId": "9f09eb1a-2c9a-4351-e968-6d4e65a164e8"
      },
      "execution_count": null,
      "outputs": [
        {
          "output_type": "stream",
          "name": "stdout",
          "text": [
            "id                                                                  5934111\n",
            "description               Refurbished attic room with en suite now avail...\n",
            "prep_description_stemm    refurbish attic room en suit avail rent well i...\n",
            "prep_description_lemm     refurbished attic room en suite available rent...\n",
            "Name: 10452, dtype: object - the similarity: 0.56\n",
            "id                                                                  5929886\n",
            "description               Newly Renovated Share House in Cabra – \\n\\nLoo...\n",
            "prep_description_stemm    newli renov share hous cabra look femal share ...\n",
            "prep_description_lemm     newly renovated share house cabra looking fema...\n",
            "Name: 10328, dtype: object - the similarity: 0.56\n",
            "id                                                                  5908123\n",
            "description               Double bedroom in new build house available in...\n",
            "prep_description_stemm    doubl bedroom new build hous avail hallwel gre...\n",
            "prep_description_lemm     double bedroom new build house available hallw...\n",
            "Name: 8217, dtype: object - the similarity: 0.56\n",
            "------------------------------------\n",
            "id                                                                  5920183\n",
            "description               Two double bedrooms for rent in a 3 bedroom gr...\n",
            "prep_description_stemm    two doubl bedroom rent bedroom ground floor mo...\n",
            "prep_description_lemm     two double bedroom rent bedroom ground floor m...\n",
            "Name: 9170, dtype: object - the similarity: 0.78\n",
            "id                                                                  5927091\n",
            "description               Temporary Accommodation - 30th November - 05th...\n",
            "prep_description_stemm    temporari accommod novemb januari doubl bedroo...\n",
            "prep_description_lemm     temporary accommodation november january doubl...\n",
            "Name: 9990, dtype: object - the similarity: 0.77\n",
            "id                                                                  5864526\n",
            "description               Ensuite bedroom is available to rent. Preferen...\n",
            "prep_description_stemm    ensuit bedroom avail rent prefer bed built war...\n",
            "prep_description_lemm     ensuite bedroom available rent preference bed ...\n",
            "Name: 9243, dtype: object - the similarity: 0.73\n"
          ]
        }
      ]
    },
    {
      "cell_type": "markdown",
      "source": [
        "## Vizualization"
      ],
      "metadata": {
        "id": "z2StGJtEtg8s"
      }
    },
    {
      "cell_type": "code",
      "source": [
        "#the most important words or phrases for similarity calculations\n",
        "terms = vectorizer.get_feature_names_out()\n",
        "weights = tfidf_matrix2.sum(axis=0).A1\n",
        "terms_weights = sorted(zip(terms, weights), key=lambda x: x[1], reverse=True)[:10]\n",
        "top_terms, top_weights = zip(*terms_weights)\n",
        "plt.figure(figsize=(10, 6))\n",
        "plt.barh(top_terms, top_weights)\n",
        "plt.xlabel('Weight')\n",
        "plt.ylabel('Terms')\n",
        "plt.title('Top 10 Important Terms (TF-IDF)')\n",
        "plt.show()"
      ],
      "metadata": {
        "colab": {
          "base_uri": "https://localhost:8080/",
          "height": 564
        },
        "id": "DB7kKyestRie",
        "outputId": "9c6c4a32-f5b6-4cc5-e698-7fef94856469"
      },
      "execution_count": null,
      "outputs": [
        {
          "output_type": "display_data",
          "data": {
            "text/plain": [
              "<Figure size 1000x600 with 1 Axes>"
            ],
            "image/png": "[encoded data removed]"
          },
          "metadata": {}
        }
      ]
    }
  ]
}