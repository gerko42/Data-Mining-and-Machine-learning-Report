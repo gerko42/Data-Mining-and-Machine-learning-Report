{
  "nbformat": 4,
  "nbformat_minor": 0,
  "metadata": {
    "colab": {
      "provenance": []
    },
    "kernelspec": {
      "name": "python3",
      "display_name": "Python 3"
    },
    "language_info": {
      "name": "python"
    }
  },
  "cells": [
    {
      "cell_type": "code",
      "source": [
        "#initial_libraries\n",
        "import pandas as pd\n",
        "import numpy as np\n",
        "from numpy import nan as NA\n",
        "import random\n",
        "from matplotlib import pyplot as plt\n",
        "%matplotlib inline\n",
        "import seaborn as sns\n",
        "import re\n",
        "from math import radians, sin, cos, asin, sqrt\n",
        "import folium\n",
        "from sklearn.preprocessing import StandardScaler, LabelEncoder\n",
        "from sklearn.cluster import KMeans"
      ],
      "metadata": {
        "id": "vuSZLOegVuLA"
      },
      "execution_count": null,
      "outputs": []
    },
    {
      "cell_type": "code",
      "execution_count": null,
      "metadata": {
        "colab": {
          "base_uri": "https://localhost:8080/"
        },
        "id": "GThblAfEVKOK",
        "outputId": "14cc1a4f-fec7-4547-b1c1-d561a6435acd"
      },
      "outputs": [
        {
          "output_type": "stream",
          "name": "stdout",
          "text": [
            "<class 'pandas.core.frame.DataFrame'>\n",
            "RangeIndex: 10928 entries, 0 to 10927\n",
            "Data columns (total 17 columns):\n",
            " #   Column                   Non-Null Count  Dtype  \n",
            "---  ------                   --------------  -----  \n",
            " 0   Sale_Type                10928 non-null  int64  \n",
            " 1   featuredLevel            10928 non-null  int64  \n",
            " 2   numBedrooms              10928 non-null  float64\n",
            " 3   shared_or_not            10928 non-null  int64  \n",
            " 4   number_of_posts          10928 non-null  int64  \n",
            " 5   propertySize_m           10928 non-null  float64\n",
            " 6   cleaned_price_per_month  10928 non-null  float64\n",
            " 7   sph_dist                 10928 non-null  float64\n",
            " 8   days_on_site             10928 non-null  int64  \n",
            " 9   Ber_Rating               10928 non-null  float64\n",
            " 10  is_commercial            10928 non-null  int64  \n",
            " 11  sections_2               10928 non-null  int64  \n",
            " 12  to_monitor_km            10928 non-null  float64\n",
            " 13  max_noise                10928 non-null  float64\n",
            " 14  latitude                 10928 non-null  float64\n",
            " 15  longitude                10928 non-null  float64\n",
            " 16  cluster                  10928 non-null  int64  \n",
            "dtypes: float64(9), int64(8)\n",
            "memory usage: 1.4 MB\n"
          ]
        }
      ],
      "source": [
        "initial_data5 = pd.read_csv('/content/initial_data5_first_try')\n",
        "initial_data5.info()"
      ]
    },
    {
      "cell_type": "code",
      "source": [
        "dublin_map = folium.Map(location=[53.349805, -6.26031], zoom_start=12)\n",
        "\n",
        "# Add markers to the map using coordinates from the dataset\n",
        "for idx, row in initial_data5.iterrows():\n",
        "    if row['cluster'] == 0:\n",
        "      color = \"orange\"\n",
        "    elif row['cluster'] == 1:\n",
        "      color = \"yellow\"\n",
        "    elif row['cluster'] == 2:\n",
        "      color = \"green\"\n",
        "    elif row['cluster'] == 3:\n",
        "      color = \"blue\"\n",
        "    elif row['cluster'] == 4:\n",
        "      color = \"purple\"\n",
        "    folium.Marker(\n",
        "        location=[row['latitude'], row['longitude']],\n",
        "        icon=folium.Icon(color=color, icon=\"info-sign\")\n",
        "    ).add_to(dublin_map)\n",
        "\n",
        "# Save the map as an HTML file\n",
        "#dublin_map.save(\"cluster_estate_map.html\")\n",
        "\n",
        "# If you're in a Jupyter Notebook, display the map inline\n",
        "dublin_map"
      ],
      "metadata": {
        "id": "amu4g_h2WbqR"
      },
      "execution_count": null,
      "outputs": []
    }
  ]
}